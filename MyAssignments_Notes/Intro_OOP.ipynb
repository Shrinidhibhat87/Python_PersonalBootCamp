{
 "cells": [
  {
   "cell_type": "code",
   "execution_count": 29,
   "metadata": {},
   "outputs": [],
   "source": [
    "# Everything in python is OOP\n",
    "# All data structures are called into being objects of those class\n",
    "# A list object, int, dict, set etc\n",
    "# It is a conventional method to have the name of the class start with CAPS (unlike functions)\n",
    "\n",
    "class UserdefinedClass():\n",
    "    # Below, fill it with methods and attributes\n",
    "    pass\n",
    "\n",
    "radomuserdefinedObject = UserdefinedClass()\n",
    "\n",
    "#Below mentions the type of the object\n",
    "type(radomuserdefinedObject)\n",
    "\n",
    "#Let us define a proper class that has attributes as well\n",
    "class Player():\n",
    "    \n",
    "    # We can define CLASS ATTRIBUTES which are attributes constant to every object above the constructor\n",
    "    # Therefore every object has the same attribute\n",
    "    numberoflegs = 2\n",
    "    \n",
    "    # Let us start to define the attributes a player will have\n",
    "    # Self is the same as 'this' pointer\n",
    "    # Other OOP like C++ used this implicitly for every method, but here it requires an explicit naming\n",
    "    # Below is a constructor function which overrides the default constructor\n",
    "    def __init__(self,name,team,jerseynum, ucl):\n",
    "        self.name = name\n",
    "        self.team = team\n",
    "        self.jerseynum = jerseynum\n",
    "        # Does the below team play in ucl?\n",
    "        self.doesItPlayinUCL = ucl\n",
    "        \n",
    "     # Other 'methods' are pretty much functions inside the class which works with the object\n",
    "    def setscoreGoal(self):\n",
    "        print('Goal scored by '+self.name+' !!!')\n",
    "        \n",
    "    # 'Attributes' are characteristics which build up the object"
   ]
  },
  {
   "cell_type": "code",
   "execution_count": 30,
   "metadata": {},
   "outputs": [],
   "source": [
    "Messi = Player(name='Messi',team='Barca',jerseynum = 10, ucl=True)\n",
    "Cris = Player(name='Cris',team='Juve',jerseynum=7,ucl=True)"
   ]
  },
  {
   "cell_type": "code",
   "execution_count": 31,
   "metadata": {},
   "outputs": [
    {
     "name": "stdout",
     "output_type": "stream",
     "text": [
      "Goal scored by Cris !!!\n"
     ]
    }
   ],
   "source": [
    "Cris.setscoreGoal()"
   ]
  },
  {
   "cell_type": "code",
   "execution_count": 47,
   "metadata": {},
   "outputs": [],
   "source": [
    "# Inheritance and Polymorphism --> Special reasons why we choose classes over struct etc\n",
    "# Inheritance -> Reuse code without creating new methods [Lessens the complexity]\n",
    "\n",
    "# Let this be the base class\n",
    "class Animal():\n",
    "    def __init__(self):\n",
    "        print('Animal created')\n",
    "    def eat(self):\n",
    "        print('Animal eating')\n",
    "\n",
    "# Clearly we are passing Animal into our Dog class which indicates we have derived attributes from the base class\n",
    "# Derived class which derives from the base class\n",
    "# All the methods/attributes of the base can be used in the dervived ones [There are rules]\n",
    "class Dog(Animal):  #What we pass inside a derived class looks to be a base class\n",
    "    def __init__(self):\n",
    "        Animal.__init__(self)\n",
    "        print('Dog created')\n",
    "    # Overwrites the method of the base class given we are changing in the derived class\n",
    "    def eat(self):\n",
    "        print(\"Dog is eating!!\")"
   ]
  },
  {
   "cell_type": "code",
   "execution_count": 45,
   "metadata": {},
   "outputs": [
    {
     "name": "stdout",
     "output_type": "stream",
     "text": [
      "Animal created\n",
      "Dog created\n"
     ]
    }
   ],
   "source": [
    "DogCreated = Dog()"
   ]
  },
  {
   "cell_type": "code",
   "execution_count": 46,
   "metadata": {},
   "outputs": [
    {
     "name": "stdout",
     "output_type": "stream",
     "text": [
      "Dog is eating!!\n"
     ]
    }
   ],
   "source": [
    "DogCreated.eat()"
   ]
  },
  {
   "cell_type": "code",
   "execution_count": 49,
   "metadata": {},
   "outputs": [],
   "source": [
    "# Abstract class -> You don't expect this to be instantiated, but rather just use this as a base class\n",
    "# Example could be Animal class given above\n",
    "# Poly -> Many; morph-> shapes\n",
    "# So you can use the same method name from base class and override it with your derived class [Method overriding]\n",
    "# Method overriding --> Polymorphism"
   ]
  },
  {
   "cell_type": "code",
   "execution_count": 64,
   "metadata": {},
   "outputs": [],
   "source": [
    "# Special methods in OOP\n",
    "\n",
    "# How do I check the len of my own object?\n",
    "# Built in python functions like print, len etc can be used towards built in objects of int,list etc\n",
    "# So how do we combine that with the user-defined class?\n",
    "\n",
    "class Book():\n",
    "    def __init__(self,title,author,pages):\n",
    "        self.title = title\n",
    "        self.author = author\n",
    "        self.pages = pages\n",
    "    \n",
    "    # For returning for print\n",
    "    def __str__(self):\n",
    "        return(\"The name of the book is \"+self.title)\n",
    "    \n",
    "    # Similary for len\n",
    "    def __len__(self):\n",
    "        return(self.pages)\n",
    "    \n",
    "    # To remove/delete the object\n",
    "    def __del__(self):\n",
    "        print(self.name+\" book has been deleted!!\")\n",
    "        \n",
    "b = Book('Title','Mourinho',100)"
   ]
  },
  {
   "cell_type": "code",
   "execution_count": 65,
   "metadata": {},
   "outputs": [
    {
     "name": "stdout",
     "output_type": "stream",
     "text": [
      "The name of the book is Title\n"
     ]
    },
    {
     "data": {
      "text/plain": [
       "100"
      ]
     },
     "execution_count": 65,
     "metadata": {},
     "output_type": "execute_result"
    }
   ],
   "source": [
    "print(b)\n",
    "len(b)"
   ]
  },
  {
   "cell_type": "code",
   "execution_count": 66,
   "metadata": {},
   "outputs": [
    {
     "name": "stderr",
     "output_type": "stream",
     "text": [
      "Exception ignored in: <function Book.__del__ at 0x000001F2EA677EE0>\n",
      "Traceback (most recent call last):\n",
      "  File \"<ipython-input-64-b900cdf95e3c>\", line 23, in __del__\n",
      "AttributeError: 'Book' object has no attribute 'name'\n"
     ]
    }
   ],
   "source": [
    "del b"
   ]
  },
  {
   "cell_type": "code",
   "execution_count": null,
   "metadata": {},
   "outputs": [],
   "source": []
  }
 ],
 "metadata": {
  "kernelspec": {
   "display_name": "Python 3",
   "language": "python",
   "name": "python3"
  },
  "language_info": {
   "codemirror_mode": {
    "name": "ipython",
    "version": 3
   },
   "file_extension": ".py",
   "mimetype": "text/x-python",
   "name": "python",
   "nbconvert_exporter": "python",
   "pygments_lexer": "ipython3",
   "version": "3.8.5"
  }
 },
 "nbformat": 4,
 "nbformat_minor": 4
}
