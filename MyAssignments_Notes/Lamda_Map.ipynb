{
 "cells": [
  {
   "cell_type": "code",
   "execution_count": 1,
   "metadata": {},
   "outputs": [
    {
     "data": {
      "text/plain": [
       "['A', 'Even', 'Even', 'Even']"
      ]
     },
     "execution_count": 1,
     "metadata": {},
     "output_type": "execute_result"
    }
   ],
   "source": [
    "#map is a built in function\n",
    "#map takes in a function and an iterable object\n",
    "\n",
    "# The example below demonstrates the usage of this towards an iterable object \n",
    "# First, let us define a function\n",
    "def stringsplicer(mystring):\n",
    "    if len(mystring)%2 == 0:\n",
    "        return('Even')\n",
    "    else:\n",
    "        return (mystring[0])\n",
    "fruits = ['Apple', 'Orange','Litchi', 'Banana']\n",
    "# The output here is going to be a list of results for each of the iterable object\n",
    "list(map(stringsplicer,fruits))"
   ]
  },
  {
   "cell_type": "code",
   "execution_count": 5,
   "metadata": {},
   "outputs": [
    {
     "name": "stdout",
     "output_type": "stream",
     "text": [
      "1\n",
      "33\n",
      "19\n",
      "23\n"
     ]
    },
    {
     "data": {
      "text/plain": [
       "[1, 33, 19, 23]"
      ]
     },
     "execution_count": 5,
     "metadata": {},
     "output_type": "execute_result"
    }
   ],
   "source": [
    "# Another similar function is a filter function (inbuilt)\n",
    "# Takes in function/none and an iterable object\n",
    "\n",
    "# Simple usage to return on odd numbers\n",
    "def check_EvenOdd(num):\n",
    "    if num%2 == 0:\n",
    "        pass\n",
    "    else:\n",
    "        return num\n",
    "\n",
    "nums = [1,33,20,56,19,23]\n",
    "for i in filter(check_EvenOdd,nums):\n",
    "    # The below expression just prints i which are the numbers\n",
    "    print(i)\n",
    "list(filter(check_EvenOdd,nums))"
   ]
  },
  {
   "cell_type": "code",
   "execution_count": 7,
   "metadata": {},
   "outputs": [
    {
     "data": {
      "text/plain": [
       "[1, 4, 9, 16, 25, 36]"
      ]
     },
     "execution_count": 7,
     "metadata": {},
     "output_type": "execute_result"
    }
   ],
   "source": [
    "# Lambda function is an anonymous function\n",
    "# Used for one-time usage\n",
    "# Syntax is just one line [lamda <input> : <Operation in one line without returns>]\n",
    "\n",
    "# Example is squaring of a number\n",
    "lambda num: num**2\n",
    "\n",
    "# The actual usage of lambda functions can be seen with filters or maps where the first parameter\n",
    "# passed can be one-off operation\n",
    "listofnumbers = [1,2,3,4,5,6]\n",
    "list(map(lambda num: num**2,listofnumbers))"
   ]
  },
  {
   "cell_type": "code",
   "execution_count": null,
   "metadata": {},
   "outputs": [],
   "source": []
  }
 ],
 "metadata": {
  "kernelspec": {
   "display_name": "Python 3",
   "language": "python",
   "name": "python3"
  },
  "language_info": {
   "codemirror_mode": {
    "name": "ipython",
    "version": 3
   },
   "file_extension": ".py",
   "mimetype": "text/x-python",
   "name": "python",
   "nbconvert_exporter": "python",
   "pygments_lexer": "ipython3",
   "version": "3.8.5"
  }
 },
 "nbformat": 4,
 "nbformat_minor": 4
}
