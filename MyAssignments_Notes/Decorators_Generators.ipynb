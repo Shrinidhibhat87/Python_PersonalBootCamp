{
 "cells": [
  {
   "cell_type": "code",
   "execution_count": 1,
   "metadata": {},
   "outputs": [],
   "source": [
    "# Consider an example where you want to add new functionalities to an already existing function:\n",
    "# We can directly add this new functionality/ create another function(copy paste old code) + new code ==> Not good enough\n",
    "\n",
    "# Decorators help in the sense that we can have an on/off switch for a function, which can be used when we want and not\n",
    "# We use the keyword '@' on top of the function to reflect the same\n",
    "# Function overloading of @ keyword is described and explained in the bookwork as part of this python course\n",
    "# We can manually as well declare our own decorators based on the example above\n",
    "# This happens during compile time"
   ]
  },
  {
   "cell_type": "code",
   "execution_count": 3,
   "metadata": {},
   "outputs": [],
   "source": [
    "def decorator_func(original_fun):\n",
    "    \n",
    "    # We define another wrapper function that executes the original function BUT\n",
    "    # This new wrapper function will have the decorations that we want as well (new code, prints etc)\n",
    "\n",
    "    def wrapperfunc():\n",
    "        # Write up some code\n",
    "        original_fun() # Executes the actual original function\n",
    "        \n",
    "    # We eventually return the wrapper function because then we can decide if we want to have the decorations or not\n",
    "    return wrapperfunc\n",
    "\n",
    "# How do we utilise '@' with this decorator?\n",
    "\n",
    "# @decorator_func \n",
    "# def a new_function\n",
    "# By default this new function will be passed into the decorator_fun(new_function)\n",
    "\n",
    "# How do we turn it off?\n",
    "# Comment it out"
   ]
  },
  {
   "cell_type": "code",
   "execution_count": 4,
   "metadata": {},
   "outputs": [],
   "source": [
    "# Range function is an example of a generator. i.e: range(0,10)\n",
    "# We 'yeild' values which helps in reduction of memory usage rather than store\n",
    "# each value of a particular operation in a list, which takes up more memory\n",
    "# To elaborate on yield usage --> We forget about this value in the next iteration\n",
    "# Therefore we don't have memory of the past usage\n",
    "# Example comparispon is between range(0,10) vs list from 0,10\n",
    "# range function, after each usage 'yeilds' that value and hence the 0-9 is deleted\n",
    "# Whereas list, continues to have all the values as is"
   ]
  },
  {
   "cell_type": "code",
   "execution_count": 5,
   "metadata": {},
   "outputs": [],
   "source": [
    "# Use generator to generate a fibonacci sequence\n",
    "\n",
    "def gen_fiboannci(n):\n",
    "    a = 1\n",
    "    b = 1\n",
    "    \n",
    "    # Yield at every entry to get the number in a sequence upto a certain number N\n",
    "    for x in range(n):\n",
    "        yield a\n",
    "        a = b\n",
    "        b = a+b"
   ]
  },
  {
   "cell_type": "code",
   "execution_count": 11,
   "metadata": {},
   "outputs": [
    {
     "name": "stdout",
     "output_type": "stream",
     "text": [
      "1\n",
      "1\n",
      "2\n",
      "4\n",
      "8\n",
      "16\n",
      "32\n",
      "64\n",
      "128\n",
      "256\n"
     ]
    }
   ],
   "source": [
    "for num in gen_fiboannci(10):\n",
    "    print(num)"
   ]
  },
  {
   "cell_type": "code",
   "execution_count": 13,
   "metadata": {},
   "outputs": [
    {
     "name": "stdout",
     "output_type": "stream",
     "text": [
      "1\n"
     ]
    }
   ],
   "source": [
    "# There is no value that is stored, but next function calculates based on where we are to get the next value\n",
    "result = gen_fiboannci(5)\n",
    "print(next(result))"
   ]
  },
  {
   "cell_type": "code",
   "execution_count": null,
   "metadata": {},
   "outputs": [],
   "source": []
  }
 ],
 "metadata": {
  "kernelspec": {
   "display_name": "Python 3",
   "language": "python",
   "name": "python3"
  },
  "language_info": {
   "codemirror_mode": {
    "name": "ipython",
    "version": 3
   },
   "file_extension": ".py",
   "mimetype": "text/x-python",
   "name": "python",
   "nbconvert_exporter": "python",
   "pygments_lexer": "ipython3",
   "version": "3.8.5"
  }
 },
 "nbformat": 4,
 "nbformat_minor": 4
}
