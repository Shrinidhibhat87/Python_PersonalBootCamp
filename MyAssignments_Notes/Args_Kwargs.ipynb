{
 "cells": [
  {
   "cell_type": "code",
   "execution_count": 10,
   "metadata": {},
   "outputs": [
    {
     "name": "stdout",
     "output_type": "stream",
     "text": [
      "(2, 4, 5, 10)\n"
     ]
    },
    {
     "data": {
      "text/plain": [
       "21"
      ]
     },
     "execution_count": 10,
     "metadata": {},
     "output_type": "execute_result"
    }
   ],
   "source": [
    "#Understanding *args and *kwargs\n",
    "# Usually we define a function with positional conditioning. Which means our fun can have only 3 argument and when we try\n",
    "# passing a 4th it returns an error\n",
    "# To mitgate this, we use the *args parameter which dynamically allots based on the number of params passed\n",
    "# So now I can keep adding \n",
    "# DataType of args is a tuple\n",
    "\n",
    "def function(*args):\n",
    "    print(args)\n",
    "    return sum(args)\n",
    "function(2,4,5,10)"
   ]
  },
  {
   "cell_type": "code",
   "execution_count": 11,
   "metadata": {},
   "outputs": [
    {
     "name": "stdout",
     "output_type": "stream",
     "text": [
      "{'player_1': 'Messi', 'player_2': 'Pique'}\n",
      "No one found in passed args\n"
     ]
    }
   ],
   "source": [
    "# Kwargs -> Keywords of arguments\n",
    "# ** arguments return a dictionary (DataType)\n",
    "# Here one can pass as many parameters (Right now it is 2, but can be any number)\n",
    "\n",
    "def func(**kwargs):\n",
    "    print(kwargs)\n",
    "    if 'player' in kwargs:\n",
    "        print('The best player is found ' + kwargs['player'])\n",
    "    else:\n",
    "        print('No one found in passed args')\n",
    "\n",
    "func(player_1 = 'Messi', player_2 = 'Pique')"
   ]
  },
  {
   "cell_type": "code",
   "execution_count": null,
   "metadata": {},
   "outputs": [],
   "source": []
  }
 ],
 "metadata": {
  "kernelspec": {
   "display_name": "Python 3",
   "language": "python",
   "name": "python3"
  },
  "language_info": {
   "codemirror_mode": {
    "name": "ipython",
    "version": 3
   },
   "file_extension": ".py",
   "mimetype": "text/x-python",
   "name": "python",
   "nbconvert_exporter": "python",
   "pygments_lexer": "ipython3",
   "version": "3.8.5"
  }
 },
 "nbformat": 4,
 "nbformat_minor": 4
}
