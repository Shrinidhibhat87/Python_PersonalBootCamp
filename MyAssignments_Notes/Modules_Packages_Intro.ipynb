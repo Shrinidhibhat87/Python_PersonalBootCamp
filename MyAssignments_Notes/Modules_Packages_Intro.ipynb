{
 "cells": [
  {
   "cell_type": "code",
   "execution_count": null,
   "metadata": {},
   "outputs": [],
   "source": [
    "# In Python we end up using modules/packages already available to work\n",
    "# Modules --> Nothing but simple python scripts (.py) which we end up using\n",
    "# Packages --> Nothing but a collection of modules/scripts which we end up importing and using in our project\n",
    "\n",
    "# NOTE!! We cannot use this on Navigator but we need to some text editor to replicate this behavior\n",
    "\n",
    "# Below are basic steps that can be followed when creating our own package using a text editor\n",
    "\n",
    "# Have 1st file (.py) which replicates module.py\n",
    "# Have another file (.py) which can be called a program file (program.py)\n",
    "\n",
    "# Syntax is --> from <module> import <a function/method> --> We can use this function inside the module\n",
    "\n",
    "\n",
    "# To create a package\n",
    "# 1) In the location create a package folder\n",
    "# 2) Create another folder inside package called subfolder\n",
    "# 3) Create '__init__.py' inside subfolder and main folder --> This essentially tells the intepreter this is a package\n",
    "#                 --> We can leave these blank for now\n",
    "# 4) Inside the main folder and the sub folder we will create python scripts [Mainscript, subscript]\n",
    "\n",
    "\n",
    "# To import from package\n",
    "# Syntax is --> from <mainpackage> import <a module>\n",
    "# Syntax to access subpackage --> from <mainpackage.subpackage> import <a module in subpackage>\n",
    "\n",
    "# Syntax to access methods in module --> module.<method name> "
   ]
  }
 ],
 "metadata": {
  "kernelspec": {
   "display_name": "Python 3",
   "language": "python",
   "name": "python3"
  },
  "language_info": {
   "codemirror_mode": {
    "name": "ipython",
    "version": 3
   },
   "file_extension": ".py",
   "mimetype": "text/x-python",
   "name": "python",
   "nbconvert_exporter": "python",
   "pygments_lexer": "ipython3",
   "version": "3.8.5"
  }
 },
 "nbformat": 4,
 "nbformat_minor": 4
}
